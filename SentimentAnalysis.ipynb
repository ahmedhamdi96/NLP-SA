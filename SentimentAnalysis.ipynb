{
 "cells": [
  {
   "cell_type": "markdown",
   "metadata": {},
   "source": [
    "# Sentiment Analysis Project"
   ]
  },
  {
   "cell_type": "markdown",
   "metadata": {},
   "source": [
    "## Data Collection and Preprocessing"
   ]
  },
  {
   "cell_type": "code",
   "execution_count": 4,
   "metadata": {},
   "outputs": [],
   "source": [
    "import pandas as pd\n",
    "from nltk import word_tokenize\n",
    "from sklearn.feature_extraction.text import CountVectorizer, TfidfVectorizer\n",
    "from sklearn.naive_bayes import MultinomialNB\n",
    "from sklearn.neighbors import KNeighborsClassifier\n",
    "from sklearn.ensemble import RandomForestClassifier\n",
    "from sklearn.metrics import f1_score\n",
    "from nltk.tokenize import TweetTokenizer\n",
    "from nltk.stem import PorterStemmer\n",
    "import re\n",
    "from langdetect import detect_langs"
   ]
  },
  {
   "cell_type": "code",
   "execution_count": 5,
   "metadata": {},
   "outputs": [],
   "source": [
    "df = pd.read_csv(\"Tweets.csv\")"
   ]
  },
  {
   "cell_type": "code",
   "execution_count": 6,
   "metadata": {},
   "outputs": [],
   "source": [
    "def removeUrls(text):\n",
    "    text = re.sub(r'\\s?([@#][\\w_-]+)', '', text)\n",
    "    return re.sub(r'http\\S+', '', text)"
   ]
  },
  {
   "cell_type": "code",
   "execution_count": 7,
   "metadata": {},
   "outputs": [],
   "source": [
    "labels = df['airline_sentiment']\n",
    "text = df['text']\n",
    "text_processed = df['text'].apply(removeUrls)"
   ]
  },
  {
   "cell_type": "markdown",
   "metadata": {},
   "source": [
    "## Stemming"
   ]
  },
  {
   "cell_type": "markdown",
   "metadata": {},
   "source": [
    "#### Stemming resulted in a lower F1 score. As a result, its usage was discarded."
   ]
  },
  {
   "cell_type": "code",
   "execution_count": 8,
   "metadata": {},
   "outputs": [],
   "source": [
    "# ps = PorterStemmer()\n",
    "# print(text_tokenized[29])\n",
    "# for i in range(len(text_tokenized)):\n",
    "#     new_sentence = ''\n",
    "#     for token in (text_tokenized[i].split(' ')):\n",
    "#         new_sentence += ps.stem(token) + ' '\n",
    "#     text_tokenized[i] = new_sentence\n",
    "# print(text_tokenized[29])"
   ]
  },
  {
   "cell_type": "markdown",
   "metadata": {},
   "source": [
    "## Filtering the tweets"
   ]
  },
  {
   "cell_type": "code",
   "execution_count": 9,
   "metadata": {},
   "outputs": [],
   "source": [
    "def getEnProb(text):\n",
    "    langs = detect_langs(text)\n",
    "    en_prob = 0.0\n",
    "    for lang in langs:\n",
    "        if lang.lang == 'en':\n",
    "            en_prob = lang.prob\n",
    "            break\n",
    "    return en_prob\n",
    "\n",
    "    #Remove RT\n",
    "    #Remove Tweets with lenght < 20\n",
    "    #Remove Tweets that contain less than 85% of its content not in the English Language\n",
    "def applyFilters(features, classes):\n",
    "    filtered_features = []\n",
    "    filtered_classes = []\n",
    "\n",
    "    for i in range(len(features)):\n",
    "        rt_filter = ' RT ' not in features[i]\n",
    "        length_filter = len(features[i]) >= 20\n",
    "        #this filter takes a little bit more time (about 4 mins)\n",
    "        en_prob_filter = getEnProb(features[i]) >= 0.85\n",
    "        if rt_filter and length_filter and en_prob_filter:\n",
    "            filtered_features.append(features[i])\n",
    "            filtered_classes.append(classes[i])\n",
    "    return filtered_features, filtered_classes"
   ]
  },
  {
   "cell_type": "markdown",
   "metadata": {},
   "source": [
    "##  MultinomialNB Model Fitting and Evaluating"
   ]
  },
  {
   "cell_type": "code",
   "execution_count": 10,
   "metadata": {},
   "outputs": [],
   "source": [
    "def create_mnb_model_and_eval(features, classes, apply_filter):\n",
    "    if apply_filter:\n",
    "        features, classes = applyFilters(features, classes)\n",
    "        \n",
    "    tweet_tokenizer = TweetTokenizer()\n",
    "    tfidf_vectorizer = TfidfVectorizer(norm = None, tokenizer = tweet_tokenizer.tokenize ,analyzer = 'word', stop_words = 'english')\n",
    "    X = tfidf_vectorizer.fit_transform(features)\n",
    "    Y = classes\n",
    "    \n",
    "    split_index = int(0.8*df.shape[0])\n",
    "    training_X = X[:split_index]\n",
    "    training_Y = Y[:split_index]\n",
    "    testing_X = X[split_index:]\n",
    "    testing_Y = Y[split_index:]\n",
    "    \n",
    "    multinomialNB_model = MultinomialNB()\n",
    "    multinomialNB_model.fit(training_X, training_Y)\n",
    "    predictionNB = multinomialNB_model.predict(testing_X)\n",
    "    return f1_score(testing_Y, predictionNB, average='micro')\n"
   ]
  },
  {
   "cell_type": "code",
   "execution_count": 13,
   "metadata": {},
   "outputs": [
    {
     "name": "stdout",
     "output_type": "stream",
     "text": [
      "MultinomialNB Model w/o filtering f1-measure: 0.7237021857923497\n",
      "MultinomialNB Model w/ filtering f1-measure: 0.739297475301866\n"
     ]
    }
   ],
   "source": [
    "mnb_unfiltered = create_mnb_model_and_eval(text_processed, labels, False)\n",
    "mnb_filtered = create_mnb_model_and_eval(text_processed, labels, True)\n",
    "print(\"MultinomialNB Model w/o filtering f1-measure:\", mnb_unfiltered)\n",
    "print(\"MultinomialNB Model w/ filtering f1-measure:\", mnb_filtered)"
   ]
  },
  {
   "cell_type": "markdown",
   "metadata": {},
   "source": [
    "##  kNN Model Fitting and Evaluating"
   ]
  },
  {
   "cell_type": "code",
   "execution_count": 11,
   "metadata": {},
   "outputs": [],
   "source": [
    "def create_knn_model_and_eval(features, classes, apply_filter):\n",
    "    if apply_filter:\n",
    "        features, classes = applyFilters(features, classes)\n",
    "        \n",
    "    tweet_tokenizer = TweetTokenizer()\n",
    "    tfidf_vectorizer = TfidfVectorizer(norm = None, tokenizer = tweet_tokenizer.tokenize ,analyzer = 'word', stop_words = 'english')\n",
    "    X = tfidf_vectorizer.fit_transform(features)\n",
    "    Y = classes\n",
    "    \n",
    "    split_index = int(0.8*df.shape[0])\n",
    "    training_X = X[:split_index]\n",
    "    training_Y = Y[:split_index]\n",
    "    testing_X = X[split_index:]\n",
    "    testing_Y = Y[split_index:]\n",
    "    \n",
    "    kNeighborsClassifier_model = KNeighborsClassifier(n_neighbors=3)\n",
    "    kNeighborsClassifier_model.fit(training_X, training_Y) \n",
    "    kNeighborsClassifier_model.score(testing_X, testing_Y)\n",
    "    predictionKNN = kNeighborsClassifier_model.predict(testing_X)\n",
    "    return f1_score(testing_Y, predictionKNN, average='micro')"
   ]
  },
  {
   "cell_type": "code",
   "execution_count": 14,
   "metadata": {},
   "outputs": [
    {
     "name": "stdout",
     "output_type": "stream",
     "text": [
      "kNN Model w/o filtering f1-measure: 0.5420081967213115\n",
      "kNN Model w/ filtering f1-measure: 0.6118166758696852\n"
     ]
    }
   ],
   "source": [
    "knn_unfiltered = create_knn_model_and_eval(text_processed, labels, False)\n",
    "knn_filtered = create_knn_model_and_eval(text_processed, labels, True)\n",
    "print(\"kNN Model w/o filtering f1-measure:\", knn_unfiltered)\n",
    "print(\"kNN Model w/ filtering f1-measure:\", knn_filtered)"
   ]
  },
  {
   "cell_type": "markdown",
   "metadata": {},
   "source": [
    "##  Random Forest Model Fitting and Evaluating"
   ]
  },
  {
   "cell_type": "code",
   "execution_count": 12,
   "metadata": {},
   "outputs": [],
   "source": [
    "def create_rfc_model_and_eval(features, classes, apply_filter):\n",
    "    if apply_filter:\n",
    "        features, classes = applyFilters(features, classes)\n",
    "        \n",
    "    tweet_tokenizer = TweetTokenizer()\n",
    "    tfidf_vectorizer = TfidfVectorizer(norm = None, tokenizer = tweet_tokenizer.tokenize ,analyzer = 'word', stop_words = 'english')\n",
    "    X = tfidf_vectorizer.fit_transform(features)\n",
    "    Y = classes\n",
    "    \n",
    "    split_index = int(0.8*df.shape[0])\n",
    "    training_X = X[:split_index]\n",
    "    training_Y = Y[:split_index]\n",
    "    testing_X = X[split_index:]\n",
    "    testing_Y = Y[split_index:]\n",
    "    \n",
    "    randomForestClassifier_model = RandomForestClassifier(random_state=0)\n",
    "    randomForestClassifier_model.fit(training_X, training_Y)\n",
    "    predictionRF = randomForestClassifier_model.predict(testing_X)\n",
    "    return f1_score(testing_Y, predictionRF, average='micro')"
   ]
  },
  {
   "cell_type": "code",
   "execution_count": 15,
   "metadata": {},
   "outputs": [
    {
     "name": "stdout",
     "output_type": "stream",
     "text": [
      "RFC Model w/o filtering f1-measure: 0.7780054644808743\n",
      "RFC Model w/ filtering f1-measure: 0.8170663692136084\n"
     ]
    }
   ],
   "source": [
    "rfc_unfiltered = create_rfc_model_and_eval(text_processed, labels, False)\n",
    "rfc_filtered = create_rfc_model_and_eval(text_processed, labels, True)\n",
    "print(\"RFC Model w/o filtering f1-measure:\", rfc_unfiltered)\n",
    "print(\"RFC Model w/ filtering f1-measure:\", rfc_filtered)"
   ]
  }
 ],
 "metadata": {
  "kernelspec": {
   "display_name": "Python 3",
   "language": "python",
   "name": "python3"
  },
  "language_info": {
   "codemirror_mode": {
    "name": "ipython",
    "version": 3
   },
   "file_extension": ".py",
   "mimetype": "text/x-python",
   "name": "python",
   "nbconvert_exporter": "python",
   "pygments_lexer": "ipython3",
   "version": "3.6.4"
  }
 },
 "nbformat": 4,
 "nbformat_minor": 2
}
